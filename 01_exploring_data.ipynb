{
 "cells": [
  {
   "cell_type": "markdown",
   "id": "bac364d2",
   "metadata": {},
   "source": [
    "<font size=\"+3\"><strong>Exploring the Data</strong></font>"
   ]
  },
  {
   "cell_type": "markdown",
   "id": "24e44ed1",
   "metadata": {},
   "source": [
    "In this project, we're going to work with data from the [Survey of Consumer Finances](https://www.federalreserve.gov/econres/scfindex.htm) (SCF). The SCF is a survey sponsored by the US Federal Reserve. It tracks financial, demographic, and opinion information about families in the United States. The survey is conducted every three years, and we'll work with an extract of the results from 2022."
   ]
  },
  {
   "cell_type": "code",
   "execution_count": 1,
   "id": "ef1975d3",
   "metadata": {},
   "outputs": [],
   "source": [
    "import matplotlib.pyplot as plt\n",
    "import pandas as pd\n",
    "import seaborn as sns"
   ]
  },
  {
   "cell_type": "markdown",
   "id": "277ebf5f",
   "metadata": {},
   "source": [
    "# Prepare Data"
   ]
  },
  {
   "cell_type": "markdown",
   "id": "c42f56c5",
   "metadata": {},
   "source": [
    "## Import"
   ]
  },
  {
   "cell_type": "code",
   "execution_count": 2,
   "id": "b5a1ff34",
   "metadata": {},
   "outputs": [
    {
     "name": "stdout",
     "output_type": "stream",
     "text": [
      "df shape: (22975, 356)\n"
     ]
    },
    {
     "data": {
      "text/html": [
       "<div>\n",
       "<style scoped>\n",
       "    .dataframe tbody tr th:only-of-type {\n",
       "        vertical-align: middle;\n",
       "    }\n",
       "\n",
       "    .dataframe tbody tr th {\n",
       "        vertical-align: top;\n",
       "    }\n",
       "\n",
       "    .dataframe thead th {\n",
       "        text-align: right;\n",
       "    }\n",
       "</style>\n",
       "<table border=\"1\" class=\"dataframe\">\n",
       "  <thead>\n",
       "    <tr style=\"text-align: right;\">\n",
       "      <th></th>\n",
       "      <th>YY1</th>\n",
       "      <th>Y1</th>\n",
       "      <th>WGT</th>\n",
       "      <th>HHSEX</th>\n",
       "      <th>AGE</th>\n",
       "      <th>AGECL</th>\n",
       "      <th>EDUC</th>\n",
       "      <th>EDCL</th>\n",
       "      <th>MARRIED</th>\n",
       "      <th>KIDS</th>\n",
       "      <th>...</th>\n",
       "      <th>NWCAT</th>\n",
       "      <th>INCCAT</th>\n",
       "      <th>ASSETCAT</th>\n",
       "      <th>NINCCAT</th>\n",
       "      <th>NINC2CAT</th>\n",
       "      <th>NWPCTLECAT</th>\n",
       "      <th>INCPCTLECAT</th>\n",
       "      <th>NINCPCTLECAT</th>\n",
       "      <th>INCQRTCAT</th>\n",
       "      <th>NINCQRTCAT</th>\n",
       "    </tr>\n",
       "  </thead>\n",
       "  <tbody>\n",
       "    <tr>\n",
       "      <th>0</th>\n",
       "      <td>1</td>\n",
       "      <td>11</td>\n",
       "      <td>3027.956120</td>\n",
       "      <td>2</td>\n",
       "      <td>70</td>\n",
       "      <td>5</td>\n",
       "      <td>9</td>\n",
       "      <td>3</td>\n",
       "      <td>2</td>\n",
       "      <td>2</td>\n",
       "      <td>...</td>\n",
       "      <td>4</td>\n",
       "      <td>2</td>\n",
       "      <td>4</td>\n",
       "      <td>2</td>\n",
       "      <td>1</td>\n",
       "      <td>8</td>\n",
       "      <td>3</td>\n",
       "      <td>3</td>\n",
       "      <td>2</td>\n",
       "      <td>1</td>\n",
       "    </tr>\n",
       "    <tr>\n",
       "      <th>1</th>\n",
       "      <td>1</td>\n",
       "      <td>12</td>\n",
       "      <td>3054.900065</td>\n",
       "      <td>2</td>\n",
       "      <td>70</td>\n",
       "      <td>5</td>\n",
       "      <td>9</td>\n",
       "      <td>3</td>\n",
       "      <td>2</td>\n",
       "      <td>2</td>\n",
       "      <td>...</td>\n",
       "      <td>4</td>\n",
       "      <td>2</td>\n",
       "      <td>5</td>\n",
       "      <td>2</td>\n",
       "      <td>1</td>\n",
       "      <td>8</td>\n",
       "      <td>3</td>\n",
       "      <td>3</td>\n",
       "      <td>2</td>\n",
       "      <td>1</td>\n",
       "    </tr>\n",
       "    <tr>\n",
       "      <th>2</th>\n",
       "      <td>1</td>\n",
       "      <td>13</td>\n",
       "      <td>3163.637766</td>\n",
       "      <td>2</td>\n",
       "      <td>70</td>\n",
       "      <td>5</td>\n",
       "      <td>9</td>\n",
       "      <td>3</td>\n",
       "      <td>2</td>\n",
       "      <td>2</td>\n",
       "      <td>...</td>\n",
       "      <td>4</td>\n",
       "      <td>2</td>\n",
       "      <td>4</td>\n",
       "      <td>2</td>\n",
       "      <td>1</td>\n",
       "      <td>8</td>\n",
       "      <td>3</td>\n",
       "      <td>3</td>\n",
       "      <td>1</td>\n",
       "      <td>1</td>\n",
       "    </tr>\n",
       "    <tr>\n",
       "      <th>3</th>\n",
       "      <td>1</td>\n",
       "      <td>14</td>\n",
       "      <td>3166.228463</td>\n",
       "      <td>2</td>\n",
       "      <td>70</td>\n",
       "      <td>5</td>\n",
       "      <td>9</td>\n",
       "      <td>3</td>\n",
       "      <td>2</td>\n",
       "      <td>2</td>\n",
       "      <td>...</td>\n",
       "      <td>3</td>\n",
       "      <td>2</td>\n",
       "      <td>4</td>\n",
       "      <td>1</td>\n",
       "      <td>1</td>\n",
       "      <td>6</td>\n",
       "      <td>3</td>\n",
       "      <td>2</td>\n",
       "      <td>1</td>\n",
       "      <td>1</td>\n",
       "    </tr>\n",
       "    <tr>\n",
       "      <th>4</th>\n",
       "      <td>1</td>\n",
       "      <td>15</td>\n",
       "      <td>3235.624715</td>\n",
       "      <td>2</td>\n",
       "      <td>70</td>\n",
       "      <td>5</td>\n",
       "      <td>9</td>\n",
       "      <td>3</td>\n",
       "      <td>2</td>\n",
       "      <td>2</td>\n",
       "      <td>...</td>\n",
       "      <td>3</td>\n",
       "      <td>2</td>\n",
       "      <td>4</td>\n",
       "      <td>2</td>\n",
       "      <td>1</td>\n",
       "      <td>8</td>\n",
       "      <td>3</td>\n",
       "      <td>3</td>\n",
       "      <td>1</td>\n",
       "      <td>1</td>\n",
       "    </tr>\n",
       "  </tbody>\n",
       "</table>\n",
       "<p>5 rows × 356 columns</p>\n",
       "</div>"
      ],
      "text/plain": [
       "   YY1  Y1          WGT  HHSEX  AGE  AGECL  EDUC  EDCL  MARRIED  KIDS  ...  \\\n",
       "0    1  11  3027.956120      2   70      5     9     3        2     2  ...   \n",
       "1    1  12  3054.900065      2   70      5     9     3        2     2  ...   \n",
       "2    1  13  3163.637766      2   70      5     9     3        2     2  ...   \n",
       "3    1  14  3166.228463      2   70      5     9     3        2     2  ...   \n",
       "4    1  15  3235.624715      2   70      5     9     3        2     2  ...   \n",
       "\n",
       "   NWCAT  INCCAT  ASSETCAT  NINCCAT  NINC2CAT  NWPCTLECAT  INCPCTLECAT  \\\n",
       "0      4       2         4        2         1           8            3   \n",
       "1      4       2         5        2         1           8            3   \n",
       "2      4       2         4        2         1           8            3   \n",
       "3      3       2         4        1         1           6            3   \n",
       "4      3       2         4        2         1           8            3   \n",
       "\n",
       "   NINCPCTLECAT  INCQRTCAT  NINCQRTCAT  \n",
       "0             3          2           1  \n",
       "1             3          2           1  \n",
       "2             3          1           1  \n",
       "3             2          1           1  \n",
       "4             3          1           1  \n",
       "\n",
       "[5 rows x 356 columns]"
      ]
     },
     "execution_count": 2,
     "metadata": {},
     "output_type": "execute_result"
    }
   ],
   "source": [
    "# Read the file `\"data/SCFP2022.csv\"` into the DataFrame `df`\n",
    "df = pd.read_csv(\"data/SCFP2022.csv\")\n",
    "print(\"df shape:\", df.shape)\n",
    "df.head()"
   ]
  },
  {
   "cell_type": "markdown",
   "id": "3e24b06d",
   "metadata": {},
   "source": [
    "One of the first things you might notice here is that this dataset is HUGE — over 20,000 rows and 351 columns! SO MUCH DATA!!! We won't have time to explore all of the features in this dataset, but you can look in the [data dictionary](./04_data_dictionary.ipynb). \n",
    "\n",
    "For now, let's just say that this dataset tracks all sorts of behaviors relating to the ways households earn, save, and spend money in the United States.\n",
    "\n",
    "For this project, we're going to focus on households that have \"been turned down for credit or feared being denied credit in the past 5 years.\" These households are identified in the `\"TURNFEAR\"` column. "
   ]
  },
  {
   "cell_type": "code",
   "execution_count": 3,
   "id": "0ec6965b",
   "metadata": {},
   "outputs": [
    {
     "name": "stdout",
     "output_type": "stream",
     "text": [
      "df_fear shape: (3839, 356)\n"
     ]
    },
    {
     "data": {
      "text/html": [
       "<div>\n",
       "<style scoped>\n",
       "    .dataframe tbody tr th:only-of-type {\n",
       "        vertical-align: middle;\n",
       "    }\n",
       "\n",
       "    .dataframe tbody tr th {\n",
       "        vertical-align: top;\n",
       "    }\n",
       "\n",
       "    .dataframe thead th {\n",
       "        text-align: right;\n",
       "    }\n",
       "</style>\n",
       "<table border=\"1\" class=\"dataframe\">\n",
       "  <thead>\n",
       "    <tr style=\"text-align: right;\">\n",
       "      <th></th>\n",
       "      <th>YY1</th>\n",
       "      <th>Y1</th>\n",
       "      <th>WGT</th>\n",
       "      <th>HHSEX</th>\n",
       "      <th>AGE</th>\n",
       "      <th>AGECL</th>\n",
       "      <th>EDUC</th>\n",
       "      <th>EDCL</th>\n",
       "      <th>MARRIED</th>\n",
       "      <th>KIDS</th>\n",
       "      <th>...</th>\n",
       "      <th>NWCAT</th>\n",
       "      <th>INCCAT</th>\n",
       "      <th>ASSETCAT</th>\n",
       "      <th>NINCCAT</th>\n",
       "      <th>NINC2CAT</th>\n",
       "      <th>NWPCTLECAT</th>\n",
       "      <th>INCPCTLECAT</th>\n",
       "      <th>NINCPCTLECAT</th>\n",
       "      <th>INCQRTCAT</th>\n",
       "      <th>NINCQRTCAT</th>\n",
       "    </tr>\n",
       "  </thead>\n",
       "  <tbody>\n",
       "    <tr>\n",
       "      <th>20</th>\n",
       "      <td>5</td>\n",
       "      <td>51</td>\n",
       "      <td>7191.481109</td>\n",
       "      <td>2</td>\n",
       "      <td>19</td>\n",
       "      <td>1</td>\n",
       "      <td>8</td>\n",
       "      <td>2</td>\n",
       "      <td>1</td>\n",
       "      <td>0</td>\n",
       "      <td>...</td>\n",
       "      <td>1</td>\n",
       "      <td>3</td>\n",
       "      <td>1</td>\n",
       "      <td>2</td>\n",
       "      <td>1</td>\n",
       "      <td>2</td>\n",
       "      <td>5</td>\n",
       "      <td>4</td>\n",
       "      <td>2</td>\n",
       "      <td>2</td>\n",
       "    </tr>\n",
       "    <tr>\n",
       "      <th>21</th>\n",
       "      <td>5</td>\n",
       "      <td>52</td>\n",
       "      <td>7352.487205</td>\n",
       "      <td>2</td>\n",
       "      <td>19</td>\n",
       "      <td>1</td>\n",
       "      <td>8</td>\n",
       "      <td>2</td>\n",
       "      <td>1</td>\n",
       "      <td>0</td>\n",
       "      <td>...</td>\n",
       "      <td>1</td>\n",
       "      <td>3</td>\n",
       "      <td>1</td>\n",
       "      <td>2</td>\n",
       "      <td>1</td>\n",
       "      <td>2</td>\n",
       "      <td>5</td>\n",
       "      <td>4</td>\n",
       "      <td>2</td>\n",
       "      <td>2</td>\n",
       "    </tr>\n",
       "    <tr>\n",
       "      <th>22</th>\n",
       "      <td>5</td>\n",
       "      <td>53</td>\n",
       "      <td>7270.703541</td>\n",
       "      <td>2</td>\n",
       "      <td>19</td>\n",
       "      <td>1</td>\n",
       "      <td>8</td>\n",
       "      <td>2</td>\n",
       "      <td>1</td>\n",
       "      <td>0</td>\n",
       "      <td>...</td>\n",
       "      <td>1</td>\n",
       "      <td>3</td>\n",
       "      <td>1</td>\n",
       "      <td>3</td>\n",
       "      <td>1</td>\n",
       "      <td>2</td>\n",
       "      <td>5</td>\n",
       "      <td>5</td>\n",
       "      <td>2</td>\n",
       "      <td>2</td>\n",
       "    </tr>\n",
       "    <tr>\n",
       "      <th>23</th>\n",
       "      <td>5</td>\n",
       "      <td>54</td>\n",
       "      <td>7383.866597</td>\n",
       "      <td>2</td>\n",
       "      <td>19</td>\n",
       "      <td>1</td>\n",
       "      <td>8</td>\n",
       "      <td>2</td>\n",
       "      <td>1</td>\n",
       "      <td>0</td>\n",
       "      <td>...</td>\n",
       "      <td>1</td>\n",
       "      <td>3</td>\n",
       "      <td>1</td>\n",
       "      <td>3</td>\n",
       "      <td>1</td>\n",
       "      <td>2</td>\n",
       "      <td>5</td>\n",
       "      <td>5</td>\n",
       "      <td>2</td>\n",
       "      <td>2</td>\n",
       "    </tr>\n",
       "    <tr>\n",
       "      <th>24</th>\n",
       "      <td>5</td>\n",
       "      <td>55</td>\n",
       "      <td>7330.537669</td>\n",
       "      <td>2</td>\n",
       "      <td>19</td>\n",
       "      <td>1</td>\n",
       "      <td>8</td>\n",
       "      <td>2</td>\n",
       "      <td>1</td>\n",
       "      <td>0</td>\n",
       "      <td>...</td>\n",
       "      <td>1</td>\n",
       "      <td>3</td>\n",
       "      <td>1</td>\n",
       "      <td>2</td>\n",
       "      <td>1</td>\n",
       "      <td>2</td>\n",
       "      <td>5</td>\n",
       "      <td>4</td>\n",
       "      <td>2</td>\n",
       "      <td>2</td>\n",
       "    </tr>\n",
       "  </tbody>\n",
       "</table>\n",
       "<p>5 rows × 356 columns</p>\n",
       "</div>"
      ],
      "text/plain": [
       "    YY1  Y1          WGT  HHSEX  AGE  AGECL  EDUC  EDCL  MARRIED  KIDS  ...  \\\n",
       "20    5  51  7191.481109      2   19      1     8     2        1     0  ...   \n",
       "21    5  52  7352.487205      2   19      1     8     2        1     0  ...   \n",
       "22    5  53  7270.703541      2   19      1     8     2        1     0  ...   \n",
       "23    5  54  7383.866597      2   19      1     8     2        1     0  ...   \n",
       "24    5  55  7330.537669      2   19      1     8     2        1     0  ...   \n",
       "\n",
       "    NWCAT  INCCAT  ASSETCAT  NINCCAT  NINC2CAT  NWPCTLECAT  INCPCTLECAT  \\\n",
       "20      1       3         1        2         1           2            5   \n",
       "21      1       3         1        2         1           2            5   \n",
       "22      1       3         1        3         1           2            5   \n",
       "23      1       3         1        3         1           2            5   \n",
       "24      1       3         1        2         1           2            5   \n",
       "\n",
       "    NINCPCTLECAT  INCQRTCAT  NINCQRTCAT  \n",
       "20             4          2           2  \n",
       "21             4          2           2  \n",
       "22             5          2           2  \n",
       "23             5          2           2  \n",
       "24             4          2           2  \n",
       "\n",
       "[5 rows x 356 columns]"
      ]
     },
     "execution_count": 3,
     "metadata": {},
     "output_type": "execute_result"
    }
   ],
   "source": [
    "mask = df[\"TURNFEAR\"] == 1\n",
    "df_fear = df[mask]\n",
    "\n",
    "print(\"df_fear shape:\", df_fear.shape)\n",
    "df_fear.head()"
   ]
  },
  {
   "cell_type": "markdown",
   "id": "4fc226f0",
   "metadata": {},
   "source": [
    "## Explore"
   ]
  },
  {
   "cell_type": "markdown",
   "id": "31ca89eb",
   "metadata": {},
   "source": [
    "### Age"
   ]
  },
  {
   "cell_type": "markdown",
   "id": "522d63ce",
   "metadata": {},
   "source": [
    "Now that we have our subset, let's explore the characteristics of this group. One of the features is age group (`\"AGECL\"`)."
   ]
  },
  {
   "cell_type": "markdown",
   "id": "fb75a465",
   "metadata": {},
   "source": [
    "we will create a list `age_groups` with the unique values in the `\"AGECL\"` column. Then we will review the entry for `\"AGECL\"` in the [Code Book](https://sda.berkeley.edu/sdaweb/docs/scfcomb2022/DOC/hcbkfx0.htm) to determine what the values represent."
   ]
  },
  {
   "cell_type": "code",
   "execution_count": 4,
   "id": "dc0c269e",
   "metadata": {},
   "outputs": [
    {
     "name": "stdout",
     "output_type": "stream",
     "text": [
      "Age Groups: [1 4 2 3 5 6]\n"
     ]
    }
   ],
   "source": [
    "age_groups = df_fear[\"AGECL\"].unique()\n",
    "\n",
    "print(\"Age Groups:\", age_groups)"
   ]
  },
  {
   "cell_type": "markdown",
   "id": "7014f6ee",
   "metadata": {},
   "source": [
    "Looking at the Code Book we can see that `\"AGECL\"` represents categorical data, even though the values in the column are numeric.\n",
    "\n",
    "![](./images/agecl.png)\n",
    "\n",
    "This simplifies data storage, but it's not very human-readable. So before we create a visualization, let's create a version of this column that uses the actual group names."
   ]
  },
  {
   "cell_type": "code",
   "execution_count": 5,
   "id": "537bf7f2-7b02-4618-bcd6-546370b1a603",
   "metadata": {
    "tags": []
   },
   "outputs": [
    {
     "data": {
      "text/plain": [
       "20     Under 35\n",
       "21     Under 35\n",
       "22     Under 35\n",
       "23     Under 35\n",
       "24     Under 35\n",
       "110       55-64\n",
       "111       55-64\n",
       "112       55-64\n",
       "113       55-64\n",
       "114       55-64\n",
       "Name: AGECL, dtype: object"
      ]
     },
     "execution_count": 5,
     "metadata": {},
     "output_type": "execute_result"
    }
   ],
   "source": [
    "# Create a Series `agecl` that contains the observations from `\"AGECL\"` using the true group names\n",
    "\n",
    "agecl_dict = {\n",
    "    1: \"Under 35\",\n",
    "    2: \"35-44\",\n",
    "    3: \"45-54\",\n",
    "    4: \"55-64\",\n",
    "    5: \"65-74\",\n",
    "    6: \"75 or Older\",\n",
    "}\n",
    "\n",
    "age_cl = df_fear[\"AGECL\"].replace(agecl_dict)\n",
    "age_cl.head(10)"
   ]
  },
  {
   "cell_type": "markdown",
   "id": "c2a38624-0e45-445b-b993-778bf7e54337",
   "metadata": {},
   "source": [
    "Now that we have better labels, let's make a bar chart and see the age distribution of our group."
   ]
  },
  {
   "cell_type": "code",
   "execution_count": 6,
   "id": "3a60e1a2-7a7b-4a8d-b6ef-0c2c3b06c65a",
   "metadata": {
    "tags": []
   },
   "outputs": [
    {
     "data": {
      "image/png": "[encoded data removed]",
      "text/plain": [
       "<Figure size 640x480 with 1 Axes>"
      ]
     },
     "metadata": {},
     "output_type": "display_data"
    }
   ],
   "source": [
    "age_cl_value_counts = age_cl.value_counts()\n",
    "\n",
    "# Bar plot of `age_cl_value_counts`\n",
    "age_cl_value_counts.plot(\n",
    "    kind=\"bar\",\n",
    "    xlabel=\"Age Group\",\n",
    "    ylabel=\"Frequency (count)\",\n",
    "    title=\"Credit Fearful: Age Groups\"\n",
    ");"
   ]
  },
  {
   "cell_type": "markdown",
   "id": "e01839bd-7eaf-4ee2-9bda-65c7e01078d8",
   "metadata": {},
   "source": [
    "We might have noticed that by creating their own age groups, the authors of the survey have basically made a histogram for us comprised of 6 bins. Our chart is telling us that many of the people who fear being denied credit are younger. But the first two age groups cover a wider range than the other four. So it might be useful to look inside those values to get a more granular understanding of the data.\n",
    "\n",
    "To do that, we'll need to look at a different variable: `\"AGE\"`. Whereas `\"AGECL\"` was a categorical variable, `\"AGE\"` is continuous, so we can use it to make a histogram of our own."
   ]
  },
  {
   "cell_type": "code",
   "execution_count": 7,
   "id": "d719110b-29ef-411d-96f1-24227cdf442b",
   "metadata": {
    "tags": []
   },
   "outputs": [
    {
     "data": {
      "image/png": "[encoded data removed]",
      "text/plain": [
       "<Figure size 640x480 with 1 Axes>"
      ]
     },
     "metadata": {},
     "output_type": "display_data"
    }
   ],
   "source": [
    "# Plot histogram of \"AGE\"\n",
    "df_fear[\"AGE\"].hist(bins=10)\n",
    "plt.xlabel(\"Age\")\n",
    "plt.ylabel(\"Frequencyy (count)\")\n",
    "plt.title(\"Credit Fearful: Age Distribution\");"
   ]
  },
  {
   "cell_type": "markdown",
   "id": "0ab90e87-7fab-4795-b0db-933f7dd2b189",
   "metadata": {},
   "source": [
    "### Race"
   ]
  },
  {
   "cell_type": "markdown",
   "id": "98f1ff22-16ec-4000-8962-cdab8cd949b3",
   "metadata": {},
   "source": [
    "Now that we have an understanding of how age relates to our outcome of interest, let's try some other possibilities, starting with race. If we look at the [Code Book](https://sda.berkeley.edu/sdaweb/docs/scfcomb2022/DOC/hcbk0001.htm#RACE) for `\"RACE\"`, we can see that there are 4 categories.\n",
    "\n",
    "![](./images/race.png)\n",
    "\n",
    "Note that there's no `4` category here. If a value for 4 *did* exist, it would be reasonable to assign it to \"Asian American / Pacific Islander\" — a group that doesn't seem to be represented in the dataset."
   ]
  },
  {
   "cell_type": "code",
   "execution_count": 8,
   "id": "53bf3a9a-d958-4b18-a8bc-c60a3e6285a6",
   "metadata": {
    "tags": []
   },
   "outputs": [
    {
     "data": {
      "image/png": "[encoded data removed]",
      "text/plain": [
       "<Figure size 640x480 with 1 Axes>"
      ]
     },
     "metadata": {},
     "output_type": "display_data"
    }
   ],
   "source": [
    "# Create a horizontal bar chart showing the normalized value counts for \"RACE\"\n",
    "\n",
    "race_dict = {\n",
    "    1: \"White/Non-Hispanic\",\n",
    "    2: \"Black/African-American\",\n",
    "    3: \"Hispanic\",\n",
    "    5: \"Other\",\n",
    "}\n",
    "race = df_fear[\"RACE\"].replace(race_dict)\n",
    "race_value_counts = race.value_counts(normalize=True)\n",
    "# Create bar chart of race_value_counts\n",
    "race_value_counts.plot(kind=\"barh\")\n",
    "plt.xlim((0, 1))\n",
    "plt.xlabel(\"Frequency (%)\")\n",
    "plt.ylabel(\"Race\")\n",
    "plt.title(\"Credit Fearful: Racial Groups\");"
   ]
  },
  {
   "cell_type": "markdown",
   "id": "dbcef9d0-a515-401f-a48d-a5689d83208e",
   "metadata": {},
   "source": [
    "This suggests that White/Non-Hispanic and Black/African-American people worry more about being denied credit, but thinking critically about what we're seeing, that might be because there are more White/Non-Hispanic and Black/African-American in the population of the United States than there are other racial groups, and the sample for this survey was specifically drawn to be representative of the population as a whole."
   ]
  },
  {
   "cell_type": "code",
   "execution_count": 9,
   "id": "0c243d9f-9bc6-487a-93c6-21c00137489b",
   "metadata": {
    "tags": []
   },
   "outputs": [
    {
     "data": {
      "image/png": "[encoded data removed]",
      "text/plain": [
       "<Figure size 640x480 with 1 Axes>"
      ]
     },
     "metadata": {},
     "output_type": "display_data"
    }
   ],
   "source": [
    "# Recreate the horizontal bar chart you just made, but this time use the entire dataset df instead of the subset df_fear\n",
    "\n",
    "race = df[\"RACE\"].replace(race_dict)\n",
    "race_value_counts = race.value_counts(normalize=True)\n",
    "# Create bar chart of race_value_counts\n",
    "race_value_counts.plot(kind=\"barh\")\n",
    "plt.xlim((0, 1))\n",
    "plt.xlabel(\"Frequency (%)\")\n",
    "plt.ylabel(\"Race\")\n",
    "plt.title(\"SCF Respondents: Racial Groups\");"
   ]
  },
  {
   "cell_type": "markdown",
   "id": "de474a71-6b09-4160-b106-faf57d99d73c",
   "metadata": {},
   "source": [
    "### Income"
   ]
  },
  {
   "cell_type": "markdown",
   "id": "bcd256c1-942f-4d86-817d-11689e7364ff",
   "metadata": {
    "tags": []
   },
   "source": [
    "What about income level? Are people with lower incomes concerned about being denied credit, or is that something people with more money worry about? In order to answer that question, we'll need to again compare the entire dataset with our subgroup using the `\"INCCAT\"` feature, which captures income percentile groups. This time, though, we'll make a single, side-by-side bar chart.\n",
    "\n",
    "![](./images/inccat.png)"
   ]
  },
  {
   "cell_type": "markdown",
   "id": "8f6745f6-5564-42ca-b93c-5fc19d7e3c1f",
   "metadata": {},
   "source": [
    "We will create a DataFrame df_inccat that shows the normalized frequency for income categories for both the credit fearful and non-credit fearful households in the dataset."
   ]
  },
  {
   "cell_type": "code",
   "execution_count": 11,
   "id": "35bbced1-3781-4ecc-b5d2-a2b30637a446",
   "metadata": {
    "tags": []
   },
   "outputs": [
    {
     "data": {
      "text/html": [
       "<div>\n",
       "<style scoped>\n",
       "    .dataframe tbody tr th:only-of-type {\n",
       "        vertical-align: middle;\n",
       "    }\n",
       "\n",
       "    .dataframe tbody tr th {\n",
       "        vertical-align: top;\n",
       "    }\n",
       "\n",
       "    .dataframe thead th {\n",
       "        text-align: right;\n",
       "    }\n",
       "</style>\n",
       "<table border=\"1\" class=\"dataframe\">\n",
       "  <thead>\n",
       "    <tr style=\"text-align: right;\">\n",
       "      <th></th>\n",
       "      <th>TURNFEAR</th>\n",
       "      <th>INCCAT</th>\n",
       "      <th>frequency</th>\n",
       "    </tr>\n",
       "  </thead>\n",
       "  <tbody>\n",
       "    <tr>\n",
       "      <th>0</th>\n",
       "      <td>0</td>\n",
       "      <td>90-100</td>\n",
       "      <td>0.303982</td>\n",
       "    </tr>\n",
       "    <tr>\n",
       "      <th>1</th>\n",
       "      <td>0</td>\n",
       "      <td>60-79.9</td>\n",
       "      <td>0.162312</td>\n",
       "    </tr>\n",
       "    <tr>\n",
       "      <th>2</th>\n",
       "      <td>0</td>\n",
       "      <td>40-59.9</td>\n",
       "      <td>0.144492</td>\n",
       "    </tr>\n",
       "    <tr>\n",
       "      <th>3</th>\n",
       "      <td>0</td>\n",
       "      <td>0-20</td>\n",
       "      <td>0.140050</td>\n",
       "    </tr>\n",
       "    <tr>\n",
       "      <th>4</th>\n",
       "      <td>0</td>\n",
       "      <td>21-39.9</td>\n",
       "      <td>0.139162</td>\n",
       "    </tr>\n",
       "    <tr>\n",
       "      <th>5</th>\n",
       "      <td>0</td>\n",
       "      <td>80-89.9</td>\n",
       "      <td>0.110002</td>\n",
       "    </tr>\n",
       "    <tr>\n",
       "      <th>6</th>\n",
       "      <td>1</td>\n",
       "      <td>0-20</td>\n",
       "      <td>0.340714</td>\n",
       "    </tr>\n",
       "    <tr>\n",
       "      <th>7</th>\n",
       "      <td>1</td>\n",
       "      <td>21-39.9</td>\n",
       "      <td>0.266476</td>\n",
       "    </tr>\n",
       "    <tr>\n",
       "      <th>8</th>\n",
       "      <td>1</td>\n",
       "      <td>40-59.9</td>\n",
       "      <td>0.205001</td>\n",
       "    </tr>\n",
       "    <tr>\n",
       "      <th>9</th>\n",
       "      <td>1</td>\n",
       "      <td>60-79.9</td>\n",
       "      <td>0.112529</td>\n",
       "    </tr>\n",
       "    <tr>\n",
       "      <th>10</th>\n",
       "      <td>1</td>\n",
       "      <td>80-89.9</td>\n",
       "      <td>0.041417</td>\n",
       "    </tr>\n",
       "    <tr>\n",
       "      <th>11</th>\n",
       "      <td>1</td>\n",
       "      <td>90-100</td>\n",
       "      <td>0.033863</td>\n",
       "    </tr>\n",
       "  </tbody>\n",
       "</table>\n",
       "</div>"
      ],
      "text/plain": [
       "    TURNFEAR   INCCAT  frequency\n",
       "0          0   90-100   0.303982\n",
       "1          0  60-79.9   0.162312\n",
       "2          0  40-59.9   0.144492\n",
       "3          0     0-20   0.140050\n",
       "4          0  21-39.9   0.139162\n",
       "5          0  80-89.9   0.110002\n",
       "6          1     0-20   0.340714\n",
       "7          1  21-39.9   0.266476\n",
       "8          1  40-59.9   0.205001\n",
       "9          1  60-79.9   0.112529\n",
       "10         1  80-89.9   0.041417\n",
       "11         1   90-100   0.033863"
      ]
     },
     "execution_count": 11,
     "metadata": {},
     "output_type": "execute_result"
    }
   ],
   "source": [
    "inccat_dict = {\n",
    "    1: \"0-20\",\n",
    "    2: \"21-39.9\",\n",
    "    3: \"40-59.9\",\n",
    "    4: \"60-79.9\",\n",
    "    5: \"80-89.9\",\n",
    "    6: \"90-100\",\n",
    "}\n",
    "\n",
    "df_inccat = (\n",
    "    df[\"INCCAT\"]\n",
    "    .replace(inccat_dict)\n",
    "    .groupby(df[\"TURNFEAR\"])\n",
    "    .value_counts(normalize=True)\n",
    "    .rename(\"frequency\")\n",
    "    .to_frame()\n",
    "    .reset_index()\n",
    ")\n",
    "\n",
    "df_inccat"
   ]
  },
  {
   "cell_type": "code",
   "execution_count": 12,
   "id": "e47c3871-2f3b-4f84-b5c3-891e2c14aa81",
   "metadata": {
    "tags": []
   },
   "outputs": [
    {
     "data": {
      "image/png": "[encoded data removed]",
      "text/plain": [
       "<Figure size 640x480 with 1 Axes>"
      ]
     },
     "metadata": {},
     "output_type": "display_data"
    }
   ],
   "source": [
    "# Create a side-by-side bar chart of `df_inccat` using seaborn\n",
    "sns.barplot(\n",
    "    x=\"INCCAT\",\n",
    "    y=\"frequency\",\n",
    "    hue=\"TURNFEAR\",\n",
    "    data=df_inccat,\n",
    "    order=inccat_dict.values()\n",
    ")\n",
    "plt.xlabel(\"Income Category\")\n",
    "plt.ylabel(\"Frequency (%)\")\n",
    "plt.title(\"Income Distribution: Credit Fearful vs. Non-fearful\");"
   ]
  },
  {
   "cell_type": "markdown",
   "id": "7008c336-5ea0-4146-91d5-23797aa27800",
   "metadata": {},
   "source": [
    "Comparing the income categories across the fearful and non-fearful groups, we can see that credit fearful households are much more common in the lower income categories. In other words, the credit fearful have lower incomes. \n",
    "\n",
    "So, based on all this, what do we know? Among the people who responded that they were indeed worried about being approved for credit after having been denied in the past five years, a plurality of the young and low-income had the highest number of respondents. That makes sense, right? Young people tend to make less money and rely more heavily on credit to get their lives off the ground, so having been denied credit makes them more anxious about the future."
   ]
  },
  {
   "cell_type": "markdown",
   "id": "478a1c99-5e48-4236-983b-85e12e7d75b3",
   "metadata": {},
   "source": [
    "### Assets"
   ]
  },
  {
   "cell_type": "markdown",
   "id": "871f0cab-b28e-4ce7-9fb6-ae06b58f4813",
   "metadata": {},
   "source": [
    "Not all the data is demographic, though. If you were working for a bank, you would probably care less about how old the people are, and more about their ability to carry more debt. If we were going to build a model for that, we'd want to establish some relationships among the variables, and making some correlation matrices is a good place to start.\n",
    "\n",
    "First, let's zoom out a little bit. We've been looking at only the people who answered \"yes\" when the survey asked about `\"TURNFEAR\"`, but what if we looked at everyone instead? To begin with, let's bring in a clear dataset and run a single correlation."
   ]
  },
  {
   "cell_type": "code",
   "execution_count": 13,
   "id": "28d0574a-6f66-45c9-a2a1-1e7d24cd466f",
   "metadata": {
    "tags": []
   },
   "outputs": [
    {
     "name": "stdout",
     "output_type": "stream",
     "text": [
      "SCF: Asset Houses Correlation: 0.561776546509553\n"
     ]
    }
   ],
   "source": [
    "# Calculate the correlation coefficient for `\"ASSET\"` and `\"HOUSES\"` in the whole dataset `df`\n",
    "\n",
    "asset_house_corr = df[\"ASSET\"].corr(df[\"HOUSES\"])\n",
    "print(\"SCF: Asset Houses Correlation:\", asset_house_corr)"
   ]
  },
  {
   "cell_type": "markdown",
   "id": "8487834b-ab15-470a-b261-8b5f8b0315e7",
   "metadata": {},
   "source": [
    "That's a moderate positive correlation, which we would probably expect, right? For many Americans, the value of their primary residence makes up most of the value of their total assets. What about the people in our `TURNFEAR` subset, though? Let's run that correlation to see if there's a difference."
   ]
  },
  {
   "cell_type": "code",
   "execution_count": 14,
   "id": "7e25552c-7696-46b5-a60d-eb24f591349c",
   "metadata": {
    "tags": []
   },
   "outputs": [
    {
     "name": "stdout",
     "output_type": "stream",
     "text": [
      "Credit Fearful: Asset Houses Correlation: 0.36495454276411543\n"
     ]
    }
   ],
   "source": [
    "# Calculate the correlation coefficient for `\"ASSET\"` and `\"HOUSES\"` in the whole credit-fearful subset `df_fear`\n",
    "\n",
    "asset_house_corr = df_fear[\"ASSET\"].corr(df_fear[\"HOUSES\"])\n",
    "print(\"Credit Fearful: Asset Houses Correlation:\", asset_house_corr)"
   ]
  },
  {
   "cell_type": "markdown",
   "id": "f42efc44-70d5-4b0f-ac9f-2edd7602cc42",
   "metadata": {},
   "source": [
    "They're different! It's still only a moderate positive correlation, but the relationship between the total value of assets and the value of the primary residence is stronger for our `TURNFEAR` group than it is for the population as a whole. \n",
    "\n",
    "Let's make correlation matrices using the rest of the data for both `df` and `df_fear` and see if the differences persist. Here, we'll look at only 5 features: `\"ASSET\"`, `\"HOUSES\"`, `\"INCOME\"`, `\"DEBT\"`, and `\"EDUC\"`."
   ]
  },
  {
   "cell_type": "code",
   "execution_count": 15,
   "id": "73f4cc6e-65e7-43b8-8d2b-9fe45053f272",
   "metadata": {
    "tags": []
   },
   "outputs": [
    {
     "data": {
      "text/html": [
       "<style type=\"text/css\">\n",
       "#T_d85e5_row0_col0, #T_d85e5_row1_col1, #T_d85e5_row2_col2, #T_d85e5_row3_col3, #T_d85e5_row4_col4 {\n",
       "  background-color: #023858;\n",
       "  color: #f1f1f1;\n",
       "}\n",
       "#T_d85e5_row0_col1, #T_d85e5_row1_col0 {\n",
       "  background-color: #69a5cc;\n",
       "  color: #f1f1f1;\n",
       "}\n",
       "#T_d85e5_row0_col2, #T_d85e5_row2_col0 {\n",
       "  background-color: #2182b9;\n",
       "  color: #f1f1f1;\n",
       "}\n",
       "#T_d85e5_row0_col3, #T_d85e5_row2_col3, #T_d85e5_row3_col0, #T_d85e5_row3_col2 {\n",
       "  background-color: #d2d3e7;\n",
       "  color: #000000;\n",
       "}\n",
       "#T_d85e5_row0_col4, #T_d85e5_row4_col0 {\n",
       "  background-color: #faf2f8;\n",
       "  color: #000000;\n",
       "}\n",
       "#T_d85e5_row1_col2, #T_d85e5_row2_col1 {\n",
       "  background-color: #b7c5df;\n",
       "  color: #000000;\n",
       "}\n",
       "#T_d85e5_row1_col3, #T_d85e5_row3_col1 {\n",
       "  background-color: #e0dded;\n",
       "  color: #000000;\n",
       "}\n",
       "#T_d85e5_row1_col4, #T_d85e5_row4_col1 {\n",
       "  background-color: #efe9f3;\n",
       "  color: #000000;\n",
       "}\n",
       "#T_d85e5_row2_col4, #T_d85e5_row4_col2 {\n",
       "  background-color: #fef6fa;\n",
       "  color: #000000;\n",
       "}\n",
       "#T_d85e5_row3_col4, #T_d85e5_row4_col3 {\n",
       "  background-color: #fff7fb;\n",
       "  color: #000000;\n",
       "}\n",
       "</style>\n",
       "<table id=\"T_d85e5\">\n",
       "  <thead>\n",
       "    <tr>\n",
       "      <th class=\"blank level0\" >&nbsp;</th>\n",
       "      <th id=\"T_d85e5_level0_col0\" class=\"col_heading level0 col0\" >ASSET</th>\n",
       "      <th id=\"T_d85e5_level0_col1\" class=\"col_heading level0 col1\" >HOUSES</th>\n",
       "      <th id=\"T_d85e5_level0_col2\" class=\"col_heading level0 col2\" >INCOME</th>\n",
       "      <th id=\"T_d85e5_level0_col3\" class=\"col_heading level0 col3\" >DEBT</th>\n",
       "      <th id=\"T_d85e5_level0_col4\" class=\"col_heading level0 col4\" >EDUC</th>\n",
       "    </tr>\n",
       "  </thead>\n",
       "  <tbody>\n",
       "    <tr>\n",
       "      <th id=\"T_d85e5_level0_row0\" class=\"row_heading level0 row0\" >ASSET</th>\n",
       "      <td id=\"T_d85e5_row0_col0\" class=\"data row0 col0\" >1.000000</td>\n",
       "      <td id=\"T_d85e5_row0_col1\" class=\"data row0 col1\" >0.561777</td>\n",
       "      <td id=\"T_d85e5_row0_col2\" class=\"data row0 col2\" >0.706685</td>\n",
       "      <td id=\"T_d85e5_row0_col3\" class=\"data row0 col3\" >0.307143</td>\n",
       "      <td id=\"T_d85e5_row0_col4\" class=\"data row0 col4\" >0.120139</td>\n",
       "    </tr>\n",
       "    <tr>\n",
       "      <th id=\"T_d85e5_level0_row1\" class=\"row_heading level0 row1\" >HOUSES</th>\n",
       "      <td id=\"T_d85e5_row1_col0\" class=\"data row1 col0\" >0.561777</td>\n",
       "      <td id=\"T_d85e5_row1_col1\" class=\"data row1 col1\" >1.000000</td>\n",
       "      <td id=\"T_d85e5_row1_col2\" class=\"data row1 col2\" >0.384699</td>\n",
       "      <td id=\"T_d85e5_row1_col3\" class=\"data row1 col3\" >0.251876</td>\n",
       "      <td id=\"T_d85e5_row1_col4\" class=\"data row1 col4\" >0.186120</td>\n",
       "    </tr>\n",
       "    <tr>\n",
       "      <th id=\"T_d85e5_level0_row2\" class=\"row_heading level0 row2\" >INCOME</th>\n",
       "      <td id=\"T_d85e5_row2_col0\" class=\"data row2 col0\" >0.706685</td>\n",
       "      <td id=\"T_d85e5_row2_col1\" class=\"data row2 col1\" >0.384699</td>\n",
       "      <td id=\"T_d85e5_row2_col2\" class=\"data row2 col2\" >1.000000</td>\n",
       "      <td id=\"T_d85e5_row2_col3\" class=\"data row2 col3\" >0.306534</td>\n",
       "      <td id=\"T_d85e5_row2_col4\" class=\"data row2 col4\" >0.096549</td>\n",
       "    </tr>\n",
       "    <tr>\n",
       "      <th id=\"T_d85e5_level0_row3\" class=\"row_heading level0 row3\" >DEBT</th>\n",
       "      <td id=\"T_d85e5_row3_col0\" class=\"data row3 col0\" >0.307143</td>\n",
       "      <td id=\"T_d85e5_row3_col1\" class=\"data row3 col1\" >0.251876</td>\n",
       "      <td id=\"T_d85e5_row3_col2\" class=\"data row3 col2\" >0.306534</td>\n",
       "      <td id=\"T_d85e5_row3_col3\" class=\"data row3 col3\" >1.000000</td>\n",
       "      <td id=\"T_d85e5_row3_col4\" class=\"data row3 col4\" >0.086561</td>\n",
       "    </tr>\n",
       "    <tr>\n",
       "      <th id=\"T_d85e5_level0_row4\" class=\"row_heading level0 row4\" >EDUC</th>\n",
       "      <td id=\"T_d85e5_row4_col0\" class=\"data row4 col0\" >0.120139</td>\n",
       "      <td id=\"T_d85e5_row4_col1\" class=\"data row4 col1\" >0.186120</td>\n",
       "      <td id=\"T_d85e5_row4_col2\" class=\"data row4 col2\" >0.096549</td>\n",
       "      <td id=\"T_d85e5_row4_col3\" class=\"data row4 col3\" >0.086561</td>\n",
       "      <td id=\"T_d85e5_row4_col4\" class=\"data row4 col4\" >1.000000</td>\n",
       "    </tr>\n",
       "  </tbody>\n",
       "</table>\n"
      ],
      "text/plain": [
       "<pandas.io.formats.style.Styler at 0x171c1fd14d0>"
      ]
     },
     "execution_count": 15,
     "metadata": {},
     "output_type": "execute_result"
    }
   ],
   "source": [
    "# Make a correlation matrix using `df`\n",
    "cols = [\"ASSET\", \"HOUSES\", \"INCOME\", \"DEBT\", \"EDUC\"]\n",
    "corr = df[cols].corr()\n",
    "corr.style.background_gradient(axis=None)"
   ]
  },
  {
   "cell_type": "code",
   "execution_count": 16,
   "id": "59df8b63-40ea-418a-bb30-48f9a3e1822d",
   "metadata": {
    "tags": []
   },
   "outputs": [
    {
     "data": {
      "text/html": [
       "<style type=\"text/css\">\n",
       "#T_49f19_row0_col0, #T_49f19_row1_col1, #T_49f19_row2_col2, #T_49f19_row3_col3, #T_49f19_row4_col4 {\n",
       "  background-color: #023858;\n",
       "  color: #f1f1f1;\n",
       "}\n",
       "#T_49f19_row0_col1, #T_49f19_row1_col0 {\n",
       "  background-color: #c4cbe3;\n",
       "  color: #000000;\n",
       "}\n",
       "#T_49f19_row0_col2, #T_49f19_row2_col0 {\n",
       "  background-color: #04588a;\n",
       "  color: #f1f1f1;\n",
       "}\n",
       "#T_49f19_row0_col3, #T_49f19_row3_col0 {\n",
       "  background-color: #97b7d7;\n",
       "  color: #000000;\n",
       "}\n",
       "#T_49f19_row0_col4, #T_49f19_row2_col4, #T_49f19_row4_col0, #T_49f19_row4_col2 {\n",
       "  background-color: #fff7fb;\n",
       "  color: #000000;\n",
       "}\n",
       "#T_49f19_row1_col2, #T_49f19_row2_col1 {\n",
       "  background-color: #d4d4e8;\n",
       "  color: #000000;\n",
       "}\n",
       "#T_49f19_row1_col3, #T_49f19_row3_col1 {\n",
       "  background-color: #308cbe;\n",
       "  color: #f1f1f1;\n",
       "}\n",
       "#T_49f19_row1_col4, #T_49f19_row4_col1 {\n",
       "  background-color: #f1ebf4;\n",
       "  color: #000000;\n",
       "}\n",
       "#T_49f19_row2_col3, #T_49f19_row3_col2 {\n",
       "  background-color: #a1bbda;\n",
       "  color: #000000;\n",
       "}\n",
       "#T_49f19_row3_col4, #T_49f19_row4_col3 {\n",
       "  background-color: #f2ecf5;\n",
       "  color: #000000;\n",
       "}\n",
       "</style>\n",
       "<table id=\"T_49f19\">\n",
       "  <thead>\n",
       "    <tr>\n",
       "      <th class=\"blank level0\" >&nbsp;</th>\n",
       "      <th id=\"T_49f19_level0_col0\" class=\"col_heading level0 col0\" >ASSET</th>\n",
       "      <th id=\"T_49f19_level0_col1\" class=\"col_heading level0 col1\" >HOUSES</th>\n",
       "      <th id=\"T_49f19_level0_col2\" class=\"col_heading level0 col2\" >INCOME</th>\n",
       "      <th id=\"T_49f19_level0_col3\" class=\"col_heading level0 col3\" >DEBT</th>\n",
       "      <th id=\"T_49f19_level0_col4\" class=\"col_heading level0 col4\" >EDUC</th>\n",
       "    </tr>\n",
       "  </thead>\n",
       "  <tbody>\n",
       "    <tr>\n",
       "      <th id=\"T_49f19_level0_row0\" class=\"row_heading level0 row0\" >ASSET</th>\n",
       "      <td id=\"T_49f19_row0_col0\" class=\"data row0 col0\" >1.000000</td>\n",
       "      <td id=\"T_49f19_row0_col1\" class=\"data row0 col1\" >0.364955</td>\n",
       "      <td id=\"T_49f19_row0_col2\" class=\"data row0 col2\" >0.893282</td>\n",
       "      <td id=\"T_49f19_row0_col3\" class=\"data row0 col3\" >0.477171</td>\n",
       "      <td id=\"T_49f19_row0_col4\" class=\"data row0 col4\" >0.110659</td>\n",
       "    </tr>\n",
       "    <tr>\n",
       "      <th id=\"T_49f19_level0_row1\" class=\"row_heading level0 row1\" >HOUSES</th>\n",
       "      <td id=\"T_49f19_row1_col0\" class=\"data row1 col0\" >0.364955</td>\n",
       "      <td id=\"T_49f19_row1_col1\" class=\"data row1 col1\" >1.000000</td>\n",
       "      <td id=\"T_49f19_row1_col2\" class=\"data row1 col2\" >0.314501</td>\n",
       "      <td id=\"T_49f19_row1_col3\" class=\"data row1 col3\" >0.676984</td>\n",
       "      <td id=\"T_49f19_row1_col4\" class=\"data row1 col4\" >0.195174</td>\n",
       "    </tr>\n",
       "    <tr>\n",
       "      <th id=\"T_49f19_level0_row2\" class=\"row_heading level0 row2\" >INCOME</th>\n",
       "      <td id=\"T_49f19_row2_col0\" class=\"data row2 col0\" >0.893282</td>\n",
       "      <td id=\"T_49f19_row2_col1\" class=\"data row2 col1\" >0.314501</td>\n",
       "      <td id=\"T_49f19_row2_col2\" class=\"data row2 col2\" >1.000000</td>\n",
       "      <td id=\"T_49f19_row2_col3\" class=\"data row2 col3\" >0.456622</td>\n",
       "      <td id=\"T_49f19_row2_col4\" class=\"data row2 col4\" >0.108845</td>\n",
       "    </tr>\n",
       "    <tr>\n",
       "      <th id=\"T_49f19_level0_row3\" class=\"row_heading level0 row3\" >DEBT</th>\n",
       "      <td id=\"T_49f19_row3_col0\" class=\"data row3 col0\" >0.477171</td>\n",
       "      <td id=\"T_49f19_row3_col1\" class=\"data row3 col1\" >0.676984</td>\n",
       "      <td id=\"T_49f19_row3_col2\" class=\"data row3 col2\" >0.456622</td>\n",
       "      <td id=\"T_49f19_row3_col3\" class=\"data row3 col3\" >1.000000</td>\n",
       "      <td id=\"T_49f19_row3_col4\" class=\"data row3 col4\" >0.182570</td>\n",
       "    </tr>\n",
       "    <tr>\n",
       "      <th id=\"T_49f19_level0_row4\" class=\"row_heading level0 row4\" >EDUC</th>\n",
       "      <td id=\"T_49f19_row4_col0\" class=\"data row4 col0\" >0.110659</td>\n",
       "      <td id=\"T_49f19_row4_col1\" class=\"data row4 col1\" >0.195174</td>\n",
       "      <td id=\"T_49f19_row4_col2\" class=\"data row4 col2\" >0.108845</td>\n",
       "      <td id=\"T_49f19_row4_col3\" class=\"data row4 col3\" >0.182570</td>\n",
       "      <td id=\"T_49f19_row4_col4\" class=\"data row4 col4\" >1.000000</td>\n",
       "    </tr>\n",
       "  </tbody>\n",
       "</table>\n"
      ],
      "text/plain": [
       "<pandas.io.formats.style.Styler at 0x171c2b3e490>"
      ]
     },
     "execution_count": 16,
     "metadata": {},
     "output_type": "execute_result"
    }
   ],
   "source": [
    "# Make a correlation matrix using `df_fear`\n",
    "corr = df_fear[cols].corr()\n",
    "corr.style.background_gradient(axis=None)"
   ]
  },
  {
   "cell_type": "markdown",
   "id": "93df459e-05f5-416e-9edc-380fe4923fca",
   "metadata": {},
   "source": [
    "There are some pretty important differences here! The relationship between `\"DEBT\"` and `\"HOUSES\"` is positive for both datasets, but while the coefficient for `df` is fairly weak at 0.25, the same number for `df_fear` is 0.67. \n",
    "\n",
    "Remember, the closer a correlation coefficient is to 1.0, the more exactly they correspond. In this case, that means the value of the primary residence and the total debt held by the household is getting pretty close to being the same. This suggests that the main source of debt being carried by our `\"TURNFEAR\"` folks is their primary residence, which, again, is an intuitive finding. \n",
    "\n",
    "`\"DEBT\"` and `\"ASSET\"` share a similarly striking difference, as do `\"EDUC\"` and `\"DEBT\"` which, while not as extreme a contrast as the other, is still big enough to catch the interest of our hypothetical banker.\n",
    "\n",
    "Let's make some visualizations to show these relationships graphically."
   ]
  },
  {
   "cell_type": "markdown",
   "id": "ee9a0d7e-8698-427a-8394-d833c9a66aac",
   "metadata": {},
   "source": [
    "### Education"
   ]
  },
  {
   "cell_type": "markdown",
   "id": "5f57efc6-7efb-4592-bf16-56c8a9fcf6bd",
   "metadata": {},
   "source": [
    "First, let's start with education levels `\"EDUC\"`, comparing credit fearful and non-credit fearful groups.\n",
    "\n",
    "![](./images/educ.png)"
   ]
  },
  {
   "cell_type": "markdown",
   "id": "8f91365d-1b6c-49c7-8166-2e4c9f35dc72",
   "metadata": {},
   "source": [
    "We will create a DataFrame `df_educ` that shows the normalized frequency for education categories for both the credit fearful and non-credit fearful households in the dataset. This will be similar in format to `df_inccat`, but focus on education"
   ]
  },
  {
   "cell_type": "code",
   "execution_count": 17,
   "id": "7a80018a-244c-44e1-965a-033b4409da5c",
   "metadata": {
    "tags": []
   },
   "outputs": [
    {
     "data": {
      "text/html": [
       "<div>\n",
       "<style scoped>\n",
       "    .dataframe tbody tr th:only-of-type {\n",
       "        vertical-align: middle;\n",
       "    }\n",
       "\n",
       "    .dataframe tbody tr th {\n",
       "        vertical-align: top;\n",
       "    }\n",
       "\n",
       "    .dataframe thead th {\n",
       "        text-align: right;\n",
       "    }\n",
       "</style>\n",
       "<table border=\"1\" class=\"dataframe\">\n",
       "  <thead>\n",
       "    <tr style=\"text-align: right;\">\n",
       "      <th></th>\n",
       "      <th>TURNFEAR</th>\n",
       "      <th>EDUC</th>\n",
       "      <th>frequency</th>\n",
       "    </tr>\n",
       "  </thead>\n",
       "  <tbody>\n",
       "    <tr>\n",
       "      <th>0</th>\n",
       "      <td>0</td>\n",
       "      <td>12</td>\n",
       "      <td>0.278689</td>\n",
       "    </tr>\n",
       "    <tr>\n",
       "      <th>1</th>\n",
       "      <td>0</td>\n",
       "      <td>8</td>\n",
       "      <td>0.174383</td>\n",
       "    </tr>\n",
       "    <tr>\n",
       "      <th>2</th>\n",
       "      <td>0</td>\n",
       "      <td>13</td>\n",
       "      <td>0.158967</td>\n",
       "    </tr>\n",
       "    <tr>\n",
       "      <th>3</th>\n",
       "      <td>0</td>\n",
       "      <td>9</td>\n",
       "      <td>0.111727</td>\n",
       "    </tr>\n",
       "    <tr>\n",
       "      <th>4</th>\n",
       "      <td>0</td>\n",
       "      <td>14</td>\n",
       "      <td>0.108539</td>\n",
       "    </tr>\n",
       "  </tbody>\n",
       "</table>\n",
       "</div>"
      ],
      "text/plain": [
       "   TURNFEAR  EDUC  frequency\n",
       "0         0    12   0.278689\n",
       "1         0     8   0.174383\n",
       "2         0    13   0.158967\n",
       "3         0     9   0.111727\n",
       "4         0    14   0.108539"
      ]
     },
     "execution_count": 17,
     "metadata": {},
     "output_type": "execute_result"
    }
   ],
   "source": [
    "df_educ = (\n",
    "    df[\"EDUC\"]\n",
    "    .groupby(df[\"TURNFEAR\"])\n",
    "    .value_counts(normalize=True)\n",
    "    .rename(\"frequency\")\n",
    "    .to_frame()\n",
    "    .reset_index()\n",
    ")\n",
    "df_educ.head()"
   ]
  },
  {
   "cell_type": "code",
   "execution_count": 18,
   "id": "64740a67-bb1e-4868-8d62-4147409344a6",
   "metadata": {
    "tags": []
   },
   "outputs": [
    {
     "data": {
      "image/png": "[encoded data removed]",
      "text/plain": [
       "<Figure size 640x480 with 1 Axes>"
      ]
     },
     "metadata": {},
     "output_type": "display_data"
    }
   ],
   "source": [
    "# Create bar chart of `df_educ`\n",
    "sns.barplot(\n",
    "    x=\"EDUC\",\n",
    "    y=\"frequency\",\n",
    "    hue=\"TURNFEAR\",\n",
    "    data=df_educ\n",
    ")\n",
    "plt.xlabel(\"Education Level\")\n",
    "plt.ylabel(\"Frequency (%)\")\n",
    "plt.title(\"Educational Attainment: Credit Fearful vs. Non-fearful\");"
   ]
  },
  {
   "cell_type": "markdown",
   "id": "1f26f343-7f17-441a-a895-e6ebae826894",
   "metadata": {},
   "source": [
    "In this plot, we can see that a much higher proportion of credit-fearful respondents have only a high school diploma, while university degrees are more common among the non-credit fearful."
   ]
  },
  {
   "cell_type": "markdown",
   "id": "45d5129c-daad-430f-80bd-04ca1ce4ad47",
   "metadata": {},
   "source": [
    "### Debt"
   ]
  },
  {
   "cell_type": "markdown",
   "id": "3c769b75-cd00-40d5-ab96-0440c6407878",
   "metadata": {},
   "source": [
    "Let's keep going with some scatter plots that look at debt."
   ]
  },
  {
   "cell_type": "code",
   "execution_count": 19,
   "id": "9d020125-930b-40df-8dda-bf0b25524482",
   "metadata": {
    "tags": []
   },
   "outputs": [
    {
     "data": {
      "image/png": "[encoded data removed]",
      "text/plain": [
       "<Figure size 640x480 with 1 Axes>"
      ]
     },
     "metadata": {},
     "output_type": "display_data"
    }
   ],
   "source": [
    "# Create scatter plot of ASSET vs DEBT, df\n",
    "df.plot.scatter(x=\"DEBT\", y=\"ASSET\");"
   ]
  },
  {
   "cell_type": "code",
   "execution_count": 20,
   "id": "ad34f35c-73a1-44b7-ad46-d6a968150e27",
   "metadata": {
    "tags": []
   },
   "outputs": [
    {
     "data": {
      "image/png": "[encoded data removed]",
      "text/plain": [
       "<Figure size 640x480 with 1 Axes>"
      ]
     },
     "metadata": {},
     "output_type": "display_data"
    }
   ],
   "source": [
    "# Create scatter plot of ASSET vs DEBT, df_fear\n",
    "df_fear.plot.scatter(x=\"DEBT\", y=\"ASSET\");"
   ]
  },
  {
   "cell_type": "markdown",
   "id": "51cd2079-342b-46b6-aecf-99f91a30179a",
   "metadata": {},
   "source": [
    "You can see relationship in our `df_fear` graph is flatter than the one in our `df` graph, but they clearly are different. \n",
    "\n",
    "Let's end with the most striking difference from our matrices, and make some scatter plots showing the difference between `HOUSES` and `DEBT`."
   ]
  },
  {
   "cell_type": "code",
   "execution_count": 21,
   "id": "42a26939-3c65-49ce-81f8-ce5f65e8e3ea",
   "metadata": {
    "tags": []
   },
   "outputs": [
    {
     "data": {
      "image/png": "[encoded data removed]",
      "text/plain": [
       "<Figure size 640x480 with 1 Axes>"
      ]
     },
     "metadata": {},
     "output_type": "display_data"
    }
   ],
   "source": [
    "# Create scatter plot of HOUSES vs DEBT, df\n",
    "df.plot.scatter(x=\"DEBT\", y=\"HOUSES\");"
   ]
  },
  {
   "cell_type": "code",
   "execution_count": 22,
   "id": "cdf093b0-b3e9-4f94-9f19-b319b09ef5f6",
   "metadata": {
    "tags": []
   },
   "outputs": [
    {
     "data": {
      "image/png": "[encoded data removed]",
      "text/plain": [
       "<Figure size 640x480 with 1 Axes>"
      ]
     },
     "metadata": {},
     "output_type": "display_data"
    }
   ],
   "source": [
    "# Create scatter plot of HOUSES vs DEBT, df_fear\n",
    "df_fear.plot.scatter(x=\"DEBT\", y=\"HOUSES\");"
   ]
  },
  {
   "cell_type": "markdown",
   "id": "4a7dc4ee-8b7d-4731-a1b9-e160a4d5507b",
   "metadata": {},
   "source": [
    "The outliers make it a little difficult to see the difference between these two plots, but the relationship is clear enough: our `df_fear` graph shows an almost linear relationship, while our `df` graph shows something a little more muddled. You might also notice that the datapoints on the `df_fear` graph form several little groups. Those are called \"clusters\"."
   ]
  }
 ],
 "metadata": {
  "kernelspec": {
   "display_name": "Python 3 (ipykernel)",
   "language": "python",
   "name": "python3"
  },
  "language_info": {
   "codemirror_mode": {
    "name": "ipython",
    "version": 3
   },
   "file_extension": ".py",
   "mimetype": "text/x-python",
   "name": "python",
   "nbconvert_exporter": "python",
   "pygments_lexer": "ipython3",
   "version": "3.11.5"
  }
 },
 "nbformat": 4,
 "nbformat_minor": 5
}
